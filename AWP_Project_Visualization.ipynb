{
 "cells": [
  {
   "cell_type": "code",
   "execution_count": 1,
   "id": "22bb5b99",
   "metadata": {},
   "outputs": [],
   "source": [
    "import numpy as np\n",
    "import pandas as pd\n",
    "import matplotlib.pyplot as plt\n",
    "import seaborn as sns\n",
    "\n",
    "import warnings\n",
    "warnings.filterwarnings(\"ignore\")"
   ]
  },
  {
   "cell_type": "code",
   "execution_count": 2,
   "id": "d42199f0",
   "metadata": {},
   "outputs": [
    {
     "data": {
      "text/html": [
       "<div>\n",
       "<style scoped>\n",
       "    .dataframe tbody tr th:only-of-type {\n",
       "        vertical-align: middle;\n",
       "    }\n",
       "\n",
       "    .dataframe tbody tr th {\n",
       "        vertical-align: top;\n",
       "    }\n",
       "\n",
       "    .dataframe thead th {\n",
       "        text-align: right;\n",
       "    }\n",
       "</style>\n",
       "<table border=\"1\" class=\"dataframe\">\n",
       "  <thead>\n",
       "    <tr style=\"text-align: right;\">\n",
       "      <th></th>\n",
       "      <th>Region</th>\n",
       "      <th>Country</th>\n",
       "      <th>Item Type</th>\n",
       "      <th>Sales Channel</th>\n",
       "      <th>Order Priority</th>\n",
       "      <th>Order Date</th>\n",
       "      <th>Order ID</th>\n",
       "      <th>Ship Date</th>\n",
       "      <th>Units Sold</th>\n",
       "      <th>Unit Price</th>\n",
       "      <th>Unit Cost</th>\n",
       "      <th>Total Revenue</th>\n",
       "      <th>Total Cost</th>\n",
       "      <th>Total Profit</th>\n",
       "    </tr>\n",
       "  </thead>\n",
       "  <tbody>\n",
       "    <tr>\n",
       "      <th>0</th>\n",
       "      <td>Middle East and North Africa</td>\n",
       "      <td>Libya</td>\n",
       "      <td>Cosmetics</td>\n",
       "      <td>Offline</td>\n",
       "      <td>M</td>\n",
       "      <td>10/18/2014</td>\n",
       "      <td>686800706</td>\n",
       "      <td>10/31/2014</td>\n",
       "      <td>8446</td>\n",
       "      <td>437.20</td>\n",
       "      <td>263.33</td>\n",
       "      <td>3692591.20</td>\n",
       "      <td>2224085.18</td>\n",
       "      <td>1468506.02</td>\n",
       "    </tr>\n",
       "    <tr>\n",
       "      <th>1</th>\n",
       "      <td>North America</td>\n",
       "      <td>Canada</td>\n",
       "      <td>Vegetables</td>\n",
       "      <td>Online</td>\n",
       "      <td>M</td>\n",
       "      <td>11-07-2011</td>\n",
       "      <td>185941302</td>\n",
       "      <td>12-08-2011</td>\n",
       "      <td>3018</td>\n",
       "      <td>154.06</td>\n",
       "      <td>90.93</td>\n",
       "      <td>464953.08</td>\n",
       "      <td>274426.74</td>\n",
       "      <td>190526.34</td>\n",
       "    </tr>\n",
       "    <tr>\n",
       "      <th>2</th>\n",
       "      <td>Middle East and North Africa</td>\n",
       "      <td>Libya</td>\n",
       "      <td>Baby Food</td>\n",
       "      <td>Offline</td>\n",
       "      <td>C</td>\n",
       "      <td>10/31/2016</td>\n",
       "      <td>246222341</td>\n",
       "      <td>12-09-2016</td>\n",
       "      <td>1517</td>\n",
       "      <td>255.28</td>\n",
       "      <td>159.42</td>\n",
       "      <td>387259.76</td>\n",
       "      <td>241840.14</td>\n",
       "      <td>145419.62</td>\n",
       "    </tr>\n",
       "    <tr>\n",
       "      <th>3</th>\n",
       "      <td>Asia</td>\n",
       "      <td>Japan</td>\n",
       "      <td>Cereal</td>\n",
       "      <td>Offline</td>\n",
       "      <td>C</td>\n",
       "      <td>04-10-2010</td>\n",
       "      <td>161442649</td>\n",
       "      <td>05-12-2010</td>\n",
       "      <td>3322</td>\n",
       "      <td>205.70</td>\n",
       "      <td>117.11</td>\n",
       "      <td>683335.40</td>\n",
       "      <td>389039.42</td>\n",
       "      <td>294295.98</td>\n",
       "    </tr>\n",
       "    <tr>\n",
       "      <th>4</th>\n",
       "      <td>Sub-Saharan Africa</td>\n",
       "      <td>Chad</td>\n",
       "      <td>Fruits</td>\n",
       "      <td>Offline</td>\n",
       "      <td>H</td>\n",
       "      <td>8/16/2011</td>\n",
       "      <td>645713555</td>\n",
       "      <td>8/31/2011</td>\n",
       "      <td>9845</td>\n",
       "      <td>9.33</td>\n",
       "      <td>6.92</td>\n",
       "      <td>91853.85</td>\n",
       "      <td>68127.40</td>\n",
       "      <td>23726.45</td>\n",
       "    </tr>\n",
       "    <tr>\n",
       "      <th>...</th>\n",
       "      <td>...</td>\n",
       "      <td>...</td>\n",
       "      <td>...</td>\n",
       "      <td>...</td>\n",
       "      <td>...</td>\n",
       "      <td>...</td>\n",
       "      <td>...</td>\n",
       "      <td>...</td>\n",
       "      <td>...</td>\n",
       "      <td>...</td>\n",
       "      <td>...</td>\n",
       "      <td>...</td>\n",
       "      <td>...</td>\n",
       "      <td>...</td>\n",
       "    </tr>\n",
       "    <tr>\n",
       "      <th>995</th>\n",
       "      <td>Middle East and North Africa</td>\n",
       "      <td>Azerbaijan</td>\n",
       "      <td>Snacks</td>\n",
       "      <td>Offline</td>\n",
       "      <td>C</td>\n",
       "      <td>4/18/2010</td>\n",
       "      <td>534085166</td>\n",
       "      <td>4/25/2010</td>\n",
       "      <td>6524</td>\n",
       "      <td>152.58</td>\n",
       "      <td>97.44</td>\n",
       "      <td>995431.92</td>\n",
       "      <td>635698.56</td>\n",
       "      <td>359733.36</td>\n",
       "    </tr>\n",
       "    <tr>\n",
       "      <th>996</th>\n",
       "      <td>Europe</td>\n",
       "      <td>Georgia</td>\n",
       "      <td>Baby Food</td>\n",
       "      <td>Offline</td>\n",
       "      <td>H</td>\n",
       "      <td>08-01-2011</td>\n",
       "      <td>590768182</td>\n",
       "      <td>09-07-2011</td>\n",
       "      <td>288</td>\n",
       "      <td>255.28</td>\n",
       "      <td>159.42</td>\n",
       "      <td>73520.64</td>\n",
       "      <td>45912.96</td>\n",
       "      <td>27607.68</td>\n",
       "    </tr>\n",
       "    <tr>\n",
       "      <th>997</th>\n",
       "      <td>Middle East and North Africa</td>\n",
       "      <td>United Arab Emirates</td>\n",
       "      <td>Vegetables</td>\n",
       "      <td>Online</td>\n",
       "      <td>C</td>\n",
       "      <td>05-12-2011</td>\n",
       "      <td>524363124</td>\n",
       "      <td>6/28/2011</td>\n",
       "      <td>9556</td>\n",
       "      <td>154.06</td>\n",
       "      <td>90.93</td>\n",
       "      <td>1472197.36</td>\n",
       "      <td>868927.08</td>\n",
       "      <td>603270.28</td>\n",
       "    </tr>\n",
       "    <tr>\n",
       "      <th>998</th>\n",
       "      <td>Europe</td>\n",
       "      <td>Finland</td>\n",
       "      <td>Household</td>\n",
       "      <td>Offline</td>\n",
       "      <td>L</td>\n",
       "      <td>1/25/2016</td>\n",
       "      <td>289606320</td>\n",
       "      <td>2/14/2016</td>\n",
       "      <td>9801</td>\n",
       "      <td>668.27</td>\n",
       "      <td>502.54</td>\n",
       "      <td>6549714.27</td>\n",
       "      <td>4925394.54</td>\n",
       "      <td>1624319.73</td>\n",
       "    </tr>\n",
       "    <tr>\n",
       "      <th>999</th>\n",
       "      <td>Europe</td>\n",
       "      <td>Portugal</td>\n",
       "      <td>Cereal</td>\n",
       "      <td>Offline</td>\n",
       "      <td>C</td>\n",
       "      <td>04-10-2014</td>\n",
       "      <td>811546599</td>\n",
       "      <td>05-08-2014</td>\n",
       "      <td>3528</td>\n",
       "      <td>205.70</td>\n",
       "      <td>117.11</td>\n",
       "      <td>725709.60</td>\n",
       "      <td>413164.08</td>\n",
       "      <td>312545.52</td>\n",
       "    </tr>\n",
       "  </tbody>\n",
       "</table>\n",
       "<p>1000 rows × 14 columns</p>\n",
       "</div>"
      ],
      "text/plain": [
       "                           Region               Country   Item Type  \\\n",
       "0    Middle East and North Africa                 Libya   Cosmetics   \n",
       "1                   North America                Canada  Vegetables   \n",
       "2    Middle East and North Africa                 Libya   Baby Food   \n",
       "3                            Asia                 Japan      Cereal   \n",
       "4              Sub-Saharan Africa                  Chad      Fruits   \n",
       "..                            ...                   ...         ...   \n",
       "995  Middle East and North Africa            Azerbaijan      Snacks   \n",
       "996                        Europe               Georgia   Baby Food   \n",
       "997  Middle East and North Africa  United Arab Emirates  Vegetables   \n",
       "998                        Europe               Finland   Household   \n",
       "999                        Europe              Portugal      Cereal   \n",
       "\n",
       "    Sales Channel Order Priority  Order Date   Order ID   Ship Date  \\\n",
       "0         Offline              M  10/18/2014  686800706  10/31/2014   \n",
       "1          Online              M  11-07-2011  185941302  12-08-2011   \n",
       "2         Offline              C  10/31/2016  246222341  12-09-2016   \n",
       "3         Offline              C  04-10-2010  161442649  05-12-2010   \n",
       "4         Offline              H   8/16/2011  645713555   8/31/2011   \n",
       "..            ...            ...         ...        ...         ...   \n",
       "995       Offline              C   4/18/2010  534085166   4/25/2010   \n",
       "996       Offline              H  08-01-2011  590768182  09-07-2011   \n",
       "997        Online              C  05-12-2011  524363124   6/28/2011   \n",
       "998       Offline              L   1/25/2016  289606320   2/14/2016   \n",
       "999       Offline              C  04-10-2014  811546599  05-08-2014   \n",
       "\n",
       "     Units Sold  Unit Price  Unit Cost  Total Revenue  Total Cost  \\\n",
       "0          8446      437.20     263.33     3692591.20  2224085.18   \n",
       "1          3018      154.06      90.93      464953.08   274426.74   \n",
       "2          1517      255.28     159.42      387259.76   241840.14   \n",
       "3          3322      205.70     117.11      683335.40   389039.42   \n",
       "4          9845        9.33       6.92       91853.85    68127.40   \n",
       "..          ...         ...        ...            ...         ...   \n",
       "995        6524      152.58      97.44      995431.92   635698.56   \n",
       "996         288      255.28     159.42       73520.64    45912.96   \n",
       "997        9556      154.06      90.93     1472197.36   868927.08   \n",
       "998        9801      668.27     502.54     6549714.27  4925394.54   \n",
       "999        3528      205.70     117.11      725709.60   413164.08   \n",
       "\n",
       "     Total Profit  \n",
       "0      1468506.02  \n",
       "1       190526.34  \n",
       "2       145419.62  \n",
       "3       294295.98  \n",
       "4        23726.45  \n",
       "..            ...  \n",
       "995     359733.36  \n",
       "996      27607.68  \n",
       "997     603270.28  \n",
       "998    1624319.73  \n",
       "999     312545.52  \n",
       "\n",
       "[1000 rows x 14 columns]"
      ]
     },
     "execution_count": 2,
     "metadata": {},
     "output_type": "execute_result"
    }
   ],
   "source": [
    "data= pd.read_csv(\"sales.csv\")\n",
    "data"
   ]
  },
  {
   "cell_type": "code",
   "execution_count": 3,
   "id": "549ecefd",
   "metadata": {},
   "outputs": [
    {
     "data": {
      "text/html": [
       "<div>\n",
       "<style scoped>\n",
       "    .dataframe tbody tr th:only-of-type {\n",
       "        vertical-align: middle;\n",
       "    }\n",
       "\n",
       "    .dataframe tbody tr th {\n",
       "        vertical-align: top;\n",
       "    }\n",
       "\n",
       "    .dataframe thead th {\n",
       "        text-align: right;\n",
       "    }\n",
       "</style>\n",
       "<table border=\"1\" class=\"dataframe\">\n",
       "  <thead>\n",
       "    <tr style=\"text-align: right;\">\n",
       "      <th></th>\n",
       "      <th>Region</th>\n",
       "      <th>Country</th>\n",
       "      <th>Item Type</th>\n",
       "      <th>Sales Channel</th>\n",
       "      <th>Order Priority</th>\n",
       "      <th>Order Date</th>\n",
       "      <th>Order ID</th>\n",
       "      <th>Ship Date</th>\n",
       "      <th>Units Sold</th>\n",
       "      <th>Unit Price</th>\n",
       "      <th>Unit Cost</th>\n",
       "      <th>Total Revenue</th>\n",
       "      <th>Total Cost</th>\n",
       "      <th>Total Profit</th>\n",
       "    </tr>\n",
       "  </thead>\n",
       "  <tbody>\n",
       "    <tr>\n",
       "      <th>0</th>\n",
       "      <td>Middle East and North Africa</td>\n",
       "      <td>Libya</td>\n",
       "      <td>Cosmetics</td>\n",
       "      <td>Offline</td>\n",
       "      <td>M</td>\n",
       "      <td>10/18/2014</td>\n",
       "      <td>686800706</td>\n",
       "      <td>10/31/2014</td>\n",
       "      <td>8446</td>\n",
       "      <td>437.20</td>\n",
       "      <td>263.33</td>\n",
       "      <td>3692591.20</td>\n",
       "      <td>2224085.18</td>\n",
       "      <td>1468506.02</td>\n",
       "    </tr>\n",
       "    <tr>\n",
       "      <th>1</th>\n",
       "      <td>North America</td>\n",
       "      <td>Canada</td>\n",
       "      <td>Vegetables</td>\n",
       "      <td>Online</td>\n",
       "      <td>M</td>\n",
       "      <td>11-07-2011</td>\n",
       "      <td>185941302</td>\n",
       "      <td>12-08-2011</td>\n",
       "      <td>3018</td>\n",
       "      <td>154.06</td>\n",
       "      <td>90.93</td>\n",
       "      <td>464953.08</td>\n",
       "      <td>274426.74</td>\n",
       "      <td>190526.34</td>\n",
       "    </tr>\n",
       "    <tr>\n",
       "      <th>2</th>\n",
       "      <td>Middle East and North Africa</td>\n",
       "      <td>Libya</td>\n",
       "      <td>Baby Food</td>\n",
       "      <td>Offline</td>\n",
       "      <td>C</td>\n",
       "      <td>10/31/2016</td>\n",
       "      <td>246222341</td>\n",
       "      <td>12-09-2016</td>\n",
       "      <td>1517</td>\n",
       "      <td>255.28</td>\n",
       "      <td>159.42</td>\n",
       "      <td>387259.76</td>\n",
       "      <td>241840.14</td>\n",
       "      <td>145419.62</td>\n",
       "    </tr>\n",
       "    <tr>\n",
       "      <th>3</th>\n",
       "      <td>Asia</td>\n",
       "      <td>Japan</td>\n",
       "      <td>Cereal</td>\n",
       "      <td>Offline</td>\n",
       "      <td>C</td>\n",
       "      <td>04-10-2010</td>\n",
       "      <td>161442649</td>\n",
       "      <td>05-12-2010</td>\n",
       "      <td>3322</td>\n",
       "      <td>205.70</td>\n",
       "      <td>117.11</td>\n",
       "      <td>683335.40</td>\n",
       "      <td>389039.42</td>\n",
       "      <td>294295.98</td>\n",
       "    </tr>\n",
       "  </tbody>\n",
       "</table>\n",
       "</div>"
      ],
      "text/plain": [
       "                         Region Country   Item Type Sales Channel  \\\n",
       "0  Middle East and North Africa   Libya   Cosmetics       Offline   \n",
       "1                 North America  Canada  Vegetables        Online   \n",
       "2  Middle East and North Africa   Libya   Baby Food       Offline   \n",
       "3                          Asia   Japan      Cereal       Offline   \n",
       "\n",
       "  Order Priority  Order Date   Order ID   Ship Date  Units Sold  Unit Price  \\\n",
       "0              M  10/18/2014  686800706  10/31/2014        8446      437.20   \n",
       "1              M  11-07-2011  185941302  12-08-2011        3018      154.06   \n",
       "2              C  10/31/2016  246222341  12-09-2016        1517      255.28   \n",
       "3              C  04-10-2010  161442649  05-12-2010        3322      205.70   \n",
       "\n",
       "   Unit Cost  Total Revenue  Total Cost  Total Profit  \n",
       "0     263.33     3692591.20  2224085.18    1468506.02  \n",
       "1      90.93      464953.08   274426.74     190526.34  \n",
       "2     159.42      387259.76   241840.14     145419.62  \n",
       "3     117.11      683335.40   389039.42     294295.98  "
      ]
     },
     "execution_count": 3,
     "metadata": {},
     "output_type": "execute_result"
    }
   ],
   "source": [
    "data.head(4)"
   ]
  },
  {
   "cell_type": "code",
   "execution_count": 4,
   "id": "fe38f45d",
   "metadata": {},
   "outputs": [
    {
     "data": {
      "text/html": [
       "<div>\n",
       "<style scoped>\n",
       "    .dataframe tbody tr th:only-of-type {\n",
       "        vertical-align: middle;\n",
       "    }\n",
       "\n",
       "    .dataframe tbody tr th {\n",
       "        vertical-align: top;\n",
       "    }\n",
       "\n",
       "    .dataframe thead th {\n",
       "        text-align: right;\n",
       "    }\n",
       "</style>\n",
       "<table border=\"1\" class=\"dataframe\">\n",
       "  <thead>\n",
       "    <tr style=\"text-align: right;\">\n",
       "      <th></th>\n",
       "      <th>Region</th>\n",
       "      <th>Country</th>\n",
       "      <th>Item Type</th>\n",
       "      <th>Sales Channel</th>\n",
       "      <th>Order Priority</th>\n",
       "      <th>Order Date</th>\n",
       "      <th>Order ID</th>\n",
       "      <th>Ship Date</th>\n",
       "      <th>Units Sold</th>\n",
       "      <th>Unit Price</th>\n",
       "      <th>Unit Cost</th>\n",
       "      <th>Total Revenue</th>\n",
       "      <th>Total Cost</th>\n",
       "      <th>Total Profit</th>\n",
       "    </tr>\n",
       "  </thead>\n",
       "  <tbody>\n",
       "    <tr>\n",
       "      <th>998</th>\n",
       "      <td>Europe</td>\n",
       "      <td>Finland</td>\n",
       "      <td>Household</td>\n",
       "      <td>Offline</td>\n",
       "      <td>L</td>\n",
       "      <td>1/25/2016</td>\n",
       "      <td>289606320</td>\n",
       "      <td>2/14/2016</td>\n",
       "      <td>9801</td>\n",
       "      <td>668.27</td>\n",
       "      <td>502.54</td>\n",
       "      <td>6549714.27</td>\n",
       "      <td>4925394.54</td>\n",
       "      <td>1624319.73</td>\n",
       "    </tr>\n",
       "    <tr>\n",
       "      <th>999</th>\n",
       "      <td>Europe</td>\n",
       "      <td>Portugal</td>\n",
       "      <td>Cereal</td>\n",
       "      <td>Offline</td>\n",
       "      <td>C</td>\n",
       "      <td>04-10-2014</td>\n",
       "      <td>811546599</td>\n",
       "      <td>05-08-2014</td>\n",
       "      <td>3528</td>\n",
       "      <td>205.70</td>\n",
       "      <td>117.11</td>\n",
       "      <td>725709.60</td>\n",
       "      <td>413164.08</td>\n",
       "      <td>312545.52</td>\n",
       "    </tr>\n",
       "  </tbody>\n",
       "</table>\n",
       "</div>"
      ],
      "text/plain": [
       "     Region   Country  Item Type Sales Channel Order Priority  Order Date  \\\n",
       "998  Europe   Finland  Household       Offline              L   1/25/2016   \n",
       "999  Europe  Portugal     Cereal       Offline              C  04-10-2014   \n",
       "\n",
       "      Order ID   Ship Date  Units Sold  Unit Price  Unit Cost  Total Revenue  \\\n",
       "998  289606320   2/14/2016        9801      668.27     502.54     6549714.27   \n",
       "999  811546599  05-08-2014        3528      205.70     117.11      725709.60   \n",
       "\n",
       "     Total Cost  Total Profit  \n",
       "998  4925394.54    1624319.73  \n",
       "999   413164.08     312545.52  "
      ]
     },
     "execution_count": 4,
     "metadata": {},
     "output_type": "execute_result"
    }
   ],
   "source": [
    "data.tail(2)"
   ]
  },
  {
   "cell_type": "code",
   "execution_count": 5,
   "id": "7e187b14",
   "metadata": {},
   "outputs": [
    {
     "name": "stdout",
     "output_type": "stream",
     "text": [
      "Number of Rows 1000\n",
      "Number of Columns 14\n"
     ]
    }
   ],
   "source": [
    "data.shape\n",
    "print(\"Number of Rows\", data.shape[0])\n",
    "print(\"Number of Columns\", data.shape[1])"
   ]
  },
  {
   "cell_type": "code",
   "execution_count": 6,
   "id": "4c92afaa",
   "metadata": {},
   "outputs": [
    {
     "data": {
      "text/plain": [
       "Region            0\n",
       "Country           0\n",
       "Item Type         0\n",
       "Sales Channel     0\n",
       "Order Priority    0\n",
       "Order Date        0\n",
       "Order ID          0\n",
       "Ship Date         0\n",
       "Units Sold        0\n",
       "Unit Price        0\n",
       "Unit Cost         0\n",
       "Total Revenue     0\n",
       "Total Cost        0\n",
       "Total Profit      0\n",
       "dtype: int64"
      ]
     },
     "execution_count": 6,
     "metadata": {},
     "output_type": "execute_result"
    }
   ],
   "source": [
    "data.isnull().sum() "
   ]
  },
  {
   "cell_type": "code",
   "execution_count": 7,
   "id": "3c8e4306",
   "metadata": {},
   "outputs": [
    {
     "name": "stdout",
     "output_type": "stream",
     "text": [
      "Any Missing value? False\n"
     ]
    }
   ],
   "source": [
    "print(\"Any Missing value?\", data.isnull().values.any())"
   ]
  },
  {
   "cell_type": "code",
   "execution_count": 8,
   "id": "230f3ab9",
   "metadata": {},
   "outputs": [
    {
     "name": "stdout",
     "output_type": "stream",
     "text": [
      "Are there any duplicate values? False\n"
     ]
    }
   ],
   "source": [
    "dup_data=data.duplicated().any()\n",
    "print(\"Are there any duplicate values?\", dup_data)"
   ]
  },
  {
   "cell_type": "code",
   "execution_count": 9,
   "id": "88ca33d6",
   "metadata": {},
   "outputs": [
    {
     "data": {
      "text/plain": [
       "<AxesSubplot:>"
      ]
     },
     "execution_count": 9,
     "metadata": {},
     "output_type": "execute_result"
    },
    {
     "data": {
      "image/png": "[encoded data removed]",
      "text/plain": [
       "<Figure size 432x288 with 2 Axes>"
      ]
     },
     "metadata": {
      "needs_background": "light"
     },
     "output_type": "display_data"
    }
   ],
   "source": [
    "sns.heatmap(data.isnull())"
   ]
  },
  {
   "cell_type": "code",
   "execution_count": 10,
   "id": "3db1ee61",
   "metadata": {},
   "outputs": [
    {
     "name": "stdout",
     "output_type": "stream",
     "text": [
      "<class 'pandas.core.frame.DataFrame'>\n",
      "RangeIndex: 1000 entries, 0 to 999\n",
      "Data columns (total 14 columns):\n",
      " #   Column          Non-Null Count  Dtype  \n",
      "---  ------          --------------  -----  \n",
      " 0   Region          1000 non-null   object \n",
      " 1   Country         1000 non-null   object \n",
      " 2   Item Type       1000 non-null   object \n",
      " 3   Sales Channel   1000 non-null   object \n",
      " 4   Order Priority  1000 non-null   object \n",
      " 5   Order Date      1000 non-null   object \n",
      " 6   Order ID        1000 non-null   int64  \n",
      " 7   Ship Date       1000 non-null   object \n",
      " 8   Units Sold      1000 non-null   int64  \n",
      " 9   Unit Price      1000 non-null   float64\n",
      " 10  Unit Cost       1000 non-null   float64\n",
      " 11  Total Revenue   1000 non-null   float64\n",
      " 12  Total Cost      1000 non-null   float64\n",
      " 13  Total Profit    1000 non-null   float64\n",
      "dtypes: float64(5), int64(2), object(7)\n",
      "memory usage: 109.5+ KB\n"
     ]
    }
   ],
   "source": [
    "data.info()"
   ]
  },
  {
   "cell_type": "markdown",
   "id": "b72968a5",
   "metadata": {},
   "source": [
    "Analysis of info():\n",
    "\n",
    "--> In Dataset we have 5 columns in float, 2 columns in integer, 7 columns in object datatypes.\n",
    "--> In dataset there are 1000 rows and 14 columns.\n",
    "--> Dataset is related to revenue and profit of different item sold in different countries.\n",
    "--> As per info there is no Null value.\n",
    "--> Memory usage requirement is 109.5 KB.\n"
   ]
  },
  {
   "cell_type": "code",
   "execution_count": 11,
   "id": "7b9033fb",
   "metadata": {},
   "outputs": [
    {
     "data": {
      "text/html": [
       "<div>\n",
       "<style scoped>\n",
       "    .dataframe tbody tr th:only-of-type {\n",
       "        vertical-align: middle;\n",
       "    }\n",
       "\n",
       "    .dataframe tbody tr th {\n",
       "        vertical-align: top;\n",
       "    }\n",
       "\n",
       "    .dataframe thead th {\n",
       "        text-align: right;\n",
       "    }\n",
       "</style>\n",
       "<table border=\"1\" class=\"dataframe\">\n",
       "  <thead>\n",
       "    <tr style=\"text-align: right;\">\n",
       "      <th></th>\n",
       "      <th>Order ID</th>\n",
       "      <th>Units Sold</th>\n",
       "      <th>Unit Price</th>\n",
       "      <th>Unit Cost</th>\n",
       "      <th>Total Revenue</th>\n",
       "      <th>Total Cost</th>\n",
       "      <th>Total Profit</th>\n",
       "    </tr>\n",
       "  </thead>\n",
       "  <tbody>\n",
       "    <tr>\n",
       "      <th>count</th>\n",
       "      <td>1.000000e+03</td>\n",
       "      <td>1000.000000</td>\n",
       "      <td>1000.00000</td>\n",
       "      <td>1000.000000</td>\n",
       "      <td>1.000000e+03</td>\n",
       "      <td>1.000000e+03</td>\n",
       "      <td>1.000000e+03</td>\n",
       "    </tr>\n",
       "    <tr>\n",
       "      <th>mean</th>\n",
       "      <td>5.496813e+08</td>\n",
       "      <td>5053.988000</td>\n",
       "      <td>262.10684</td>\n",
       "      <td>184.965110</td>\n",
       "      <td>1.327322e+06</td>\n",
       "      <td>9.361192e+05</td>\n",
       "      <td>3.912026e+05</td>\n",
       "    </tr>\n",
       "    <tr>\n",
       "      <th>std</th>\n",
       "      <td>2.571334e+08</td>\n",
       "      <td>2901.375317</td>\n",
       "      <td>216.02106</td>\n",
       "      <td>175.289311</td>\n",
       "      <td>1.486515e+06</td>\n",
       "      <td>1.162571e+06</td>\n",
       "      <td>3.836402e+05</td>\n",
       "    </tr>\n",
       "    <tr>\n",
       "      <th>min</th>\n",
       "      <td>1.029280e+08</td>\n",
       "      <td>13.000000</td>\n",
       "      <td>9.33000</td>\n",
       "      <td>6.920000</td>\n",
       "      <td>2.043250e+03</td>\n",
       "      <td>1.416750e+03</td>\n",
       "      <td>5.326100e+02</td>\n",
       "    </tr>\n",
       "    <tr>\n",
       "      <th>25%</th>\n",
       "      <td>3.280740e+08</td>\n",
       "      <td>2420.250000</td>\n",
       "      <td>81.73000</td>\n",
       "      <td>56.670000</td>\n",
       "      <td>2.811919e+05</td>\n",
       "      <td>1.649319e+05</td>\n",
       "      <td>9.837612e+04</td>\n",
       "    </tr>\n",
       "    <tr>\n",
       "      <th>50%</th>\n",
       "      <td>5.566097e+08</td>\n",
       "      <td>5184.000000</td>\n",
       "      <td>154.06000</td>\n",
       "      <td>97.440000</td>\n",
       "      <td>7.549392e+05</td>\n",
       "      <td>4.647261e+05</td>\n",
       "      <td>2.772260e+05</td>\n",
       "    </tr>\n",
       "    <tr>\n",
       "      <th>75%</th>\n",
       "      <td>7.696945e+08</td>\n",
       "      <td>7536.750000</td>\n",
       "      <td>421.89000</td>\n",
       "      <td>263.330000</td>\n",
       "      <td>1.733503e+06</td>\n",
       "      <td>1.141750e+06</td>\n",
       "      <td>5.484568e+05</td>\n",
       "    </tr>\n",
       "    <tr>\n",
       "      <th>max</th>\n",
       "      <td>9.955298e+08</td>\n",
       "      <td>9998.000000</td>\n",
       "      <td>668.27000</td>\n",
       "      <td>524.960000</td>\n",
       "      <td>6.617210e+06</td>\n",
       "      <td>5.204978e+06</td>\n",
       "      <td>1.726181e+06</td>\n",
       "    </tr>\n",
       "  </tbody>\n",
       "</table>\n",
       "</div>"
      ],
      "text/plain": [
       "           Order ID   Units Sold  Unit Price    Unit Cost  Total Revenue  \\\n",
       "count  1.000000e+03  1000.000000  1000.00000  1000.000000   1.000000e+03   \n",
       "mean   5.496813e+08  5053.988000   262.10684   184.965110   1.327322e+06   \n",
       "std    2.571334e+08  2901.375317   216.02106   175.289311   1.486515e+06   \n",
       "min    1.029280e+08    13.000000     9.33000     6.920000   2.043250e+03   \n",
       "25%    3.280740e+08  2420.250000    81.73000    56.670000   2.811919e+05   \n",
       "50%    5.566097e+08  5184.000000   154.06000    97.440000   7.549392e+05   \n",
       "75%    7.696945e+08  7536.750000   421.89000   263.330000   1.733503e+06   \n",
       "max    9.955298e+08  9998.000000   668.27000   524.960000   6.617210e+06   \n",
       "\n",
       "         Total Cost  Total Profit  \n",
       "count  1.000000e+03  1.000000e+03  \n",
       "mean   9.361192e+05  3.912026e+05  \n",
       "std    1.162571e+06  3.836402e+05  \n",
       "min    1.416750e+03  5.326100e+02  \n",
       "25%    1.649319e+05  9.837612e+04  \n",
       "50%    4.647261e+05  2.772260e+05  \n",
       "75%    1.141750e+06  5.484568e+05  \n",
       "max    5.204978e+06  1.726181e+06  "
      ]
     },
     "execution_count": 11,
     "metadata": {},
     "output_type": "execute_result"
    }
   ],
   "source": [
    "data.describe()"
   ]
  },
  {
   "cell_type": "raw",
   "id": "d8fb7b40",
   "metadata": {},
   "source": [
    "Analysis of Describe:\n",
    "\n",
    "--> Unit sold is negatively skewed ( mean < median) 5053.99 < 5184.  \n",
    "--> Unit Selling price and Unit Cost is Positively Skewed (mean > median) 262.10 > 154.06  and 184.96 > 97.44 Here average           price is higher than middle price.\n",
    "--> Revenue and profit is positive skewed mean > median, 13.27 > 7.55, 39.12 > 27.72.\n",
    "--> selling price minimum is 9.33 and maximum is 668.27  here mixed item in the basket.\n",
    "--> Minimum qty is 13 sold and Maximum qty is 9998."
   ]
  },
  {
   "cell_type": "code",
   "execution_count": 12,
   "id": "9d29a151",
   "metadata": {},
   "outputs": [
    {
     "data": {
      "text/plain": [
       "Index(['Region', 'Country', 'Item Type', 'Sales Channel', 'Order Priority',\n",
       "       'Order Date', 'Order ID', 'Ship Date', 'Units Sold', 'Unit Price',\n",
       "       'Unit Cost', 'Total Revenue', 'Total Cost', 'Total Profit'],\n",
       "      dtype='object')"
      ]
     },
     "execution_count": 12,
     "metadata": {},
     "output_type": "execute_result"
    }
   ],
   "source": [
    "data.columns"
   ]
  },
  {
   "cell_type": "markdown",
   "id": "8919e339",
   "metadata": {},
   "source": [
    "# Heatmap "
   ]
  },
  {
   "cell_type": "code",
   "execution_count": 13,
   "id": "80442cab",
   "metadata": {},
   "outputs": [
    {
     "data": {
      "text/html": [
       "<div>\n",
       "<style scoped>\n",
       "    .dataframe tbody tr th:only-of-type {\n",
       "        vertical-align: middle;\n",
       "    }\n",
       "\n",
       "    .dataframe tbody tr th {\n",
       "        vertical-align: top;\n",
       "    }\n",
       "\n",
       "    .dataframe thead th {\n",
       "        text-align: right;\n",
       "    }\n",
       "</style>\n",
       "<table border=\"1\" class=\"dataframe\">\n",
       "  <thead>\n",
       "    <tr style=\"text-align: right;\">\n",
       "      <th></th>\n",
       "      <th>Order ID</th>\n",
       "      <th>Units Sold</th>\n",
       "      <th>Unit Price</th>\n",
       "      <th>Unit Cost</th>\n",
       "      <th>Total Revenue</th>\n",
       "      <th>Total Cost</th>\n",
       "      <th>Total Profit</th>\n",
       "    </tr>\n",
       "  </thead>\n",
       "  <tbody>\n",
       "    <tr>\n",
       "      <th>Order ID</th>\n",
       "      <td>1.000000</td>\n",
       "      <td>0.010266</td>\n",
       "      <td>-0.033436</td>\n",
       "      <td>-0.035550</td>\n",
       "      <td>-0.022079</td>\n",
       "      <td>-0.025629</td>\n",
       "      <td>-0.007886</td>\n",
       "    </tr>\n",
       "    <tr>\n",
       "      <th>Units Sold</th>\n",
       "      <td>0.010266</td>\n",
       "      <td>1.000000</td>\n",
       "      <td>0.004212</td>\n",
       "      <td>0.002574</td>\n",
       "      <td>0.527945</td>\n",
       "      <td>0.479713</td>\n",
       "      <td>0.591957</td>\n",
       "    </tr>\n",
       "    <tr>\n",
       "      <th>Unit Price</th>\n",
       "      <td>-0.033436</td>\n",
       "      <td>0.004212</td>\n",
       "      <td>1.000000</td>\n",
       "      <td>0.986735</td>\n",
       "      <td>0.730752</td>\n",
       "      <td>0.745538</td>\n",
       "      <td>0.572235</td>\n",
       "    </tr>\n",
       "    <tr>\n",
       "      <th>Unit Cost</th>\n",
       "      <td>-0.035550</td>\n",
       "      <td>0.002574</td>\n",
       "      <td>0.986735</td>\n",
       "      <td>1.000000</td>\n",
       "      <td>0.717999</td>\n",
       "      <td>0.753678</td>\n",
       "      <td>0.498156</td>\n",
       "    </tr>\n",
       "    <tr>\n",
       "      <th>Total Revenue</th>\n",
       "      <td>-0.022079</td>\n",
       "      <td>0.527945</td>\n",
       "      <td>0.730752</td>\n",
       "      <td>0.717999</td>\n",
       "      <td>1.000000</td>\n",
       "      <td>0.987779</td>\n",
       "      <td>0.881429</td>\n",
       "    </tr>\n",
       "    <tr>\n",
       "      <th>Total Cost</th>\n",
       "      <td>-0.025629</td>\n",
       "      <td>0.479713</td>\n",
       "      <td>0.745538</td>\n",
       "      <td>0.753678</td>\n",
       "      <td>0.987779</td>\n",
       "      <td>1.000000</td>\n",
       "      <td>0.797041</td>\n",
       "    </tr>\n",
       "    <tr>\n",
       "      <th>Total Profit</th>\n",
       "      <td>-0.007886</td>\n",
       "      <td>0.591957</td>\n",
       "      <td>0.572235</td>\n",
       "      <td>0.498156</td>\n",
       "      <td>0.881429</td>\n",
       "      <td>0.797041</td>\n",
       "      <td>1.000000</td>\n",
       "    </tr>\n",
       "  </tbody>\n",
       "</table>\n",
       "</div>"
      ],
      "text/plain": [
       "               Order ID  Units Sold  Unit Price  Unit Cost  Total Revenue  \\\n",
       "Order ID       1.000000    0.010266   -0.033436  -0.035550      -0.022079   \n",
       "Units Sold     0.010266    1.000000    0.004212   0.002574       0.527945   \n",
       "Unit Price    -0.033436    0.004212    1.000000   0.986735       0.730752   \n",
       "Unit Cost     -0.035550    0.002574    0.986735   1.000000       0.717999   \n",
       "Total Revenue -0.022079    0.527945    0.730752   0.717999       1.000000   \n",
       "Total Cost    -0.025629    0.479713    0.745538   0.753678       0.987779   \n",
       "Total Profit  -0.007886    0.591957    0.572235   0.498156       0.881429   \n",
       "\n",
       "               Total Cost  Total Profit  \n",
       "Order ID        -0.025629     -0.007886  \n",
       "Units Sold       0.479713      0.591957  \n",
       "Unit Price       0.745538      0.572235  \n",
       "Unit Cost        0.753678      0.498156  \n",
       "Total Revenue    0.987779      0.881429  \n",
       "Total Cost       1.000000      0.797041  \n",
       "Total Profit     0.797041      1.000000  "
      ]
     },
     "execution_count": 13,
     "metadata": {},
     "output_type": "execute_result"
    }
   ],
   "source": [
    "data.corr()"
   ]
  },
  {
   "cell_type": "code",
   "execution_count": 14,
   "id": "f5816af6",
   "metadata": {},
   "outputs": [
    {
     "data": {
      "image/png": "[encoded data removed]",
      "text/plain": [
       "<Figure size 576x504 with 2 Axes>"
      ]
     },
     "metadata": {
      "needs_background": "light"
     },
     "output_type": "display_data"
    }
   ],
   "source": [
    "plt.figure(figsize=(8,7))\n",
    "sns.heatmap(data.corr(),annot=True, cmap='Greens')\n",
    "plt.show()"
   ]
  },
  {
   "cell_type": "raw",
   "id": "9436d6b9",
   "metadata": {},
   "source": [
    "Analysis of Correlation between each other:\n",
    "\n",
    "--> Units sold column has correlationship above 0.48 with revenue column, cost column  and profits column.\n",
    "--> Total Revenue has strong correlationship with each column( Units sold, price, profit...) in the above except Order ID.\n",
    "--> Order ID has no Correlation with any other columns."
   ]
  },
  {
   "cell_type": "code",
   "execution_count": 15,
   "id": "1d9237ba",
   "metadata": {},
   "outputs": [
    {
     "data": {
      "text/html": [
       "<div>\n",
       "<style scoped>\n",
       "    .dataframe tbody tr th:only-of-type {\n",
       "        vertical-align: middle;\n",
       "    }\n",
       "\n",
       "    .dataframe tbody tr th {\n",
       "        vertical-align: top;\n",
       "    }\n",
       "\n",
       "    .dataframe thead th {\n",
       "        text-align: right;\n",
       "    }\n",
       "</style>\n",
       "<table border=\"1\" class=\"dataframe\">\n",
       "  <thead>\n",
       "    <tr style=\"text-align: right;\">\n",
       "      <th></th>\n",
       "      <th>Region</th>\n",
       "      <th>Total Revenue</th>\n",
       "    </tr>\n",
       "  </thead>\n",
       "  <tbody>\n",
       "    <tr>\n",
       "      <th>0</th>\n",
       "      <td>Middle East and North Africa</td>\n",
       "      <td>3692591.20</td>\n",
       "    </tr>\n",
       "    <tr>\n",
       "      <th>1</th>\n",
       "      <td>North America</td>\n",
       "      <td>464953.08</td>\n",
       "    </tr>\n",
       "    <tr>\n",
       "      <th>2</th>\n",
       "      <td>Middle East and North Africa</td>\n",
       "      <td>387259.76</td>\n",
       "    </tr>\n",
       "  </tbody>\n",
       "</table>\n",
       "</div>"
      ],
      "text/plain": [
       "                         Region  Total Revenue\n",
       "0  Middle East and North Africa     3692591.20\n",
       "1                 North America      464953.08\n",
       "2  Middle East and North Africa      387259.76"
      ]
     },
     "execution_count": 15,
     "metadata": {},
     "output_type": "execute_result"
    }
   ],
   "source": [
    "data[['Region','Total Revenue']].head(3)"
   ]
  },
  {
   "cell_type": "code",
   "execution_count": 16,
   "id": "14b19004",
   "metadata": {},
   "outputs": [],
   "source": [
    "data['Revenue in lakh']= data['Total Revenue']/100000\n",
    "data['Cost in lakh']= data['Total Cost']/100000\n",
    "data['Profit in lakh']= data['Total Profit']/100000"
   ]
  },
  {
   "cell_type": "code",
   "execution_count": 17,
   "id": "24b768de",
   "metadata": {},
   "outputs": [
    {
     "data": {
      "text/html": [
       "<div>\n",
       "<style scoped>\n",
       "    .dataframe tbody tr th:only-of-type {\n",
       "        vertical-align: middle;\n",
       "    }\n",
       "\n",
       "    .dataframe tbody tr th {\n",
       "        vertical-align: top;\n",
       "    }\n",
       "\n",
       "    .dataframe thead th {\n",
       "        text-align: right;\n",
       "    }\n",
       "</style>\n",
       "<table border=\"1\" class=\"dataframe\">\n",
       "  <thead>\n",
       "    <tr style=\"text-align: right;\">\n",
       "      <th></th>\n",
       "      <th>Region</th>\n",
       "      <th>Country</th>\n",
       "      <th>Item Type</th>\n",
       "      <th>Sales Channel</th>\n",
       "      <th>Order Priority</th>\n",
       "      <th>Order Date</th>\n",
       "      <th>Order ID</th>\n",
       "      <th>Ship Date</th>\n",
       "      <th>Units Sold</th>\n",
       "      <th>Unit Price</th>\n",
       "      <th>Unit Cost</th>\n",
       "      <th>Total Revenue</th>\n",
       "      <th>Total Cost</th>\n",
       "      <th>Total Profit</th>\n",
       "      <th>Revenue in lakh</th>\n",
       "      <th>Cost in lakh</th>\n",
       "      <th>Profit in lakh</th>\n",
       "    </tr>\n",
       "  </thead>\n",
       "  <tbody>\n",
       "    <tr>\n",
       "      <th>0</th>\n",
       "      <td>Middle East and North Africa</td>\n",
       "      <td>Libya</td>\n",
       "      <td>Cosmetics</td>\n",
       "      <td>Offline</td>\n",
       "      <td>M</td>\n",
       "      <td>10/18/2014</td>\n",
       "      <td>686800706</td>\n",
       "      <td>10/31/2014</td>\n",
       "      <td>8446</td>\n",
       "      <td>437.20</td>\n",
       "      <td>263.33</td>\n",
       "      <td>3692591.20</td>\n",
       "      <td>2224085.18</td>\n",
       "      <td>1468506.02</td>\n",
       "      <td>36.925912</td>\n",
       "      <td>22.240852</td>\n",
       "      <td>14.685060</td>\n",
       "    </tr>\n",
       "    <tr>\n",
       "      <th>1</th>\n",
       "      <td>North America</td>\n",
       "      <td>Canada</td>\n",
       "      <td>Vegetables</td>\n",
       "      <td>Online</td>\n",
       "      <td>M</td>\n",
       "      <td>11-07-2011</td>\n",
       "      <td>185941302</td>\n",
       "      <td>12-08-2011</td>\n",
       "      <td>3018</td>\n",
       "      <td>154.06</td>\n",
       "      <td>90.93</td>\n",
       "      <td>464953.08</td>\n",
       "      <td>274426.74</td>\n",
       "      <td>190526.34</td>\n",
       "      <td>4.649531</td>\n",
       "      <td>2.744267</td>\n",
       "      <td>1.905263</td>\n",
       "    </tr>\n",
       "    <tr>\n",
       "      <th>2</th>\n",
       "      <td>Middle East and North Africa</td>\n",
       "      <td>Libya</td>\n",
       "      <td>Baby Food</td>\n",
       "      <td>Offline</td>\n",
       "      <td>C</td>\n",
       "      <td>10/31/2016</td>\n",
       "      <td>246222341</td>\n",
       "      <td>12-09-2016</td>\n",
       "      <td>1517</td>\n",
       "      <td>255.28</td>\n",
       "      <td>159.42</td>\n",
       "      <td>387259.76</td>\n",
       "      <td>241840.14</td>\n",
       "      <td>145419.62</td>\n",
       "      <td>3.872598</td>\n",
       "      <td>2.418401</td>\n",
       "      <td>1.454196</td>\n",
       "    </tr>\n",
       "    <tr>\n",
       "      <th>3</th>\n",
       "      <td>Asia</td>\n",
       "      <td>Japan</td>\n",
       "      <td>Cereal</td>\n",
       "      <td>Offline</td>\n",
       "      <td>C</td>\n",
       "      <td>04-10-2010</td>\n",
       "      <td>161442649</td>\n",
       "      <td>05-12-2010</td>\n",
       "      <td>3322</td>\n",
       "      <td>205.70</td>\n",
       "      <td>117.11</td>\n",
       "      <td>683335.40</td>\n",
       "      <td>389039.42</td>\n",
       "      <td>294295.98</td>\n",
       "      <td>6.833354</td>\n",
       "      <td>3.890394</td>\n",
       "      <td>2.942960</td>\n",
       "    </tr>\n",
       "  </tbody>\n",
       "</table>\n",
       "</div>"
      ],
      "text/plain": [
       "                         Region Country   Item Type Sales Channel  \\\n",
       "0  Middle East and North Africa   Libya   Cosmetics       Offline   \n",
       "1                 North America  Canada  Vegetables        Online   \n",
       "2  Middle East and North Africa   Libya   Baby Food       Offline   \n",
       "3                          Asia   Japan      Cereal       Offline   \n",
       "\n",
       "  Order Priority  Order Date   Order ID   Ship Date  Units Sold  Unit Price  \\\n",
       "0              M  10/18/2014  686800706  10/31/2014        8446      437.20   \n",
       "1              M  11-07-2011  185941302  12-08-2011        3018      154.06   \n",
       "2              C  10/31/2016  246222341  12-09-2016        1517      255.28   \n",
       "3              C  04-10-2010  161442649  05-12-2010        3322      205.70   \n",
       "\n",
       "   Unit Cost  Total Revenue  Total Cost  Total Profit  Revenue in lakh  \\\n",
       "0     263.33     3692591.20  2224085.18    1468506.02        36.925912   \n",
       "1      90.93      464953.08   274426.74     190526.34         4.649531   \n",
       "2     159.42      387259.76   241840.14     145419.62         3.872598   \n",
       "3     117.11      683335.40   389039.42     294295.98         6.833354   \n",
       "\n",
       "   Cost in lakh  Profit in lakh  \n",
       "0     22.240852       14.685060  \n",
       "1      2.744267        1.905263  \n",
       "2      2.418401        1.454196  \n",
       "3      3.890394        2.942960  "
      ]
     },
     "execution_count": 17,
     "metadata": {},
     "output_type": "execute_result"
    }
   ],
   "source": [
    "data.head(4)"
   ]
  },
  {
   "cell_type": "code",
   "execution_count": 18,
   "id": "30a04d98",
   "metadata": {},
   "outputs": [
    {
     "data": {
      "text/plain": [
       "Index(['Region', 'Country', 'Item Type', 'Sales Channel', 'Order Priority',\n",
       "       'Order Date', 'Order ID', 'Ship Date', 'Units Sold', 'Unit Price',\n",
       "       'Unit Cost', 'Total Revenue', 'Total Cost', 'Total Profit',\n",
       "       'Revenue in lakh', 'Cost in lakh', 'Profit in lakh'],\n",
       "      dtype='object')"
      ]
     },
     "execution_count": 18,
     "metadata": {},
     "output_type": "execute_result"
    }
   ],
   "source": [
    "data.columns"
   ]
  },
  {
   "cell_type": "code",
   "execution_count": 19,
   "id": "785b2e2e",
   "metadata": {},
   "outputs": [
    {
     "data": {
      "text/plain": [
       "0      66.027418\n",
       "1      69.427032\n",
       "2      60.130473\n",
       "3      75.646828\n",
       "4      34.826590\n",
       "         ...    \n",
       "995    56.588670\n",
       "996    60.130473\n",
       "997    69.427032\n",
       "998    32.978469\n",
       "999    75.646828\n",
       "Name: Percent, Length: 1000, dtype: float64"
      ]
     },
     "execution_count": 19,
     "metadata": {},
     "output_type": "execute_result"
    }
   ],
   "source": [
    "a=data['Unit Price']-data['Unit Cost']\n",
    "\n",
    "data['Percent']=a/data['Unit Cost']*100\n",
    "data['Percent']"
   ]
  },
  {
   "cell_type": "code",
   "execution_count": 20,
   "id": "bf5f1026",
   "metadata": {},
   "outputs": [
    {
     "data": {
      "text/html": [
       "<div>\n",
       "<style scoped>\n",
       "    .dataframe tbody tr th:only-of-type {\n",
       "        vertical-align: middle;\n",
       "    }\n",
       "\n",
       "    .dataframe tbody tr th {\n",
       "        vertical-align: top;\n",
       "    }\n",
       "\n",
       "    .dataframe thead th {\n",
       "        text-align: right;\n",
       "    }\n",
       "</style>\n",
       "<table border=\"1\" class=\"dataframe\">\n",
       "  <thead>\n",
       "    <tr style=\"text-align: right;\">\n",
       "      <th></th>\n",
       "      <th>Region</th>\n",
       "      <th>Country</th>\n",
       "      <th>Item Type</th>\n",
       "      <th>Sales Channel</th>\n",
       "      <th>Order Priority</th>\n",
       "      <th>Order Date</th>\n",
       "      <th>Order ID</th>\n",
       "      <th>Ship Date</th>\n",
       "      <th>Units Sold</th>\n",
       "      <th>Unit Price</th>\n",
       "      <th>Unit Cost</th>\n",
       "      <th>Total Revenue</th>\n",
       "      <th>Total Cost</th>\n",
       "      <th>Total Profit</th>\n",
       "      <th>Revenue in lakh</th>\n",
       "      <th>Cost in lakh</th>\n",
       "      <th>Profit in lakh</th>\n",
       "      <th>Percent</th>\n",
       "    </tr>\n",
       "  </thead>\n",
       "  <tbody>\n",
       "    <tr>\n",
       "      <th>0</th>\n",
       "      <td>Middle East and North Africa</td>\n",
       "      <td>Libya</td>\n",
       "      <td>Cosmetics</td>\n",
       "      <td>Offline</td>\n",
       "      <td>M</td>\n",
       "      <td>10/18/2014</td>\n",
       "      <td>686800706</td>\n",
       "      <td>10/31/2014</td>\n",
       "      <td>8446</td>\n",
       "      <td>437.20</td>\n",
       "      <td>263.33</td>\n",
       "      <td>3692591.20</td>\n",
       "      <td>2224085.18</td>\n",
       "      <td>1468506.02</td>\n",
       "      <td>36.925912</td>\n",
       "      <td>22.240852</td>\n",
       "      <td>14.685060</td>\n",
       "      <td>66.027418</td>\n",
       "    </tr>\n",
       "    <tr>\n",
       "      <th>1</th>\n",
       "      <td>North America</td>\n",
       "      <td>Canada</td>\n",
       "      <td>Vegetables</td>\n",
       "      <td>Online</td>\n",
       "      <td>M</td>\n",
       "      <td>11-07-2011</td>\n",
       "      <td>185941302</td>\n",
       "      <td>12-08-2011</td>\n",
       "      <td>3018</td>\n",
       "      <td>154.06</td>\n",
       "      <td>90.93</td>\n",
       "      <td>464953.08</td>\n",
       "      <td>274426.74</td>\n",
       "      <td>190526.34</td>\n",
       "      <td>4.649531</td>\n",
       "      <td>2.744267</td>\n",
       "      <td>1.905263</td>\n",
       "      <td>69.427032</td>\n",
       "    </tr>\n",
       "    <tr>\n",
       "      <th>2</th>\n",
       "      <td>Middle East and North Africa</td>\n",
       "      <td>Libya</td>\n",
       "      <td>Baby Food</td>\n",
       "      <td>Offline</td>\n",
       "      <td>C</td>\n",
       "      <td>10/31/2016</td>\n",
       "      <td>246222341</td>\n",
       "      <td>12-09-2016</td>\n",
       "      <td>1517</td>\n",
       "      <td>255.28</td>\n",
       "      <td>159.42</td>\n",
       "      <td>387259.76</td>\n",
       "      <td>241840.14</td>\n",
       "      <td>145419.62</td>\n",
       "      <td>3.872598</td>\n",
       "      <td>2.418401</td>\n",
       "      <td>1.454196</td>\n",
       "      <td>60.130473</td>\n",
       "    </tr>\n",
       "    <tr>\n",
       "      <th>3</th>\n",
       "      <td>Asia</td>\n",
       "      <td>Japan</td>\n",
       "      <td>Cereal</td>\n",
       "      <td>Offline</td>\n",
       "      <td>C</td>\n",
       "      <td>04-10-2010</td>\n",
       "      <td>161442649</td>\n",
       "      <td>05-12-2010</td>\n",
       "      <td>3322</td>\n",
       "      <td>205.70</td>\n",
       "      <td>117.11</td>\n",
       "      <td>683335.40</td>\n",
       "      <td>389039.42</td>\n",
       "      <td>294295.98</td>\n",
       "      <td>6.833354</td>\n",
       "      <td>3.890394</td>\n",
       "      <td>2.942960</td>\n",
       "      <td>75.646828</td>\n",
       "    </tr>\n",
       "    <tr>\n",
       "      <th>4</th>\n",
       "      <td>Sub-Saharan Africa</td>\n",
       "      <td>Chad</td>\n",
       "      <td>Fruits</td>\n",
       "      <td>Offline</td>\n",
       "      <td>H</td>\n",
       "      <td>8/16/2011</td>\n",
       "      <td>645713555</td>\n",
       "      <td>8/31/2011</td>\n",
       "      <td>9845</td>\n",
       "      <td>9.33</td>\n",
       "      <td>6.92</td>\n",
       "      <td>91853.85</td>\n",
       "      <td>68127.40</td>\n",
       "      <td>23726.45</td>\n",
       "      <td>0.918539</td>\n",
       "      <td>0.681274</td>\n",
       "      <td>0.237265</td>\n",
       "      <td>34.826590</td>\n",
       "    </tr>\n",
       "  </tbody>\n",
       "</table>\n",
       "</div>"
      ],
      "text/plain": [
       "                         Region Country   Item Type Sales Channel  \\\n",
       "0  Middle East and North Africa   Libya   Cosmetics       Offline   \n",
       "1                 North America  Canada  Vegetables        Online   \n",
       "2  Middle East and North Africa   Libya   Baby Food       Offline   \n",
       "3                          Asia   Japan      Cereal       Offline   \n",
       "4            Sub-Saharan Africa    Chad      Fruits       Offline   \n",
       "\n",
       "  Order Priority  Order Date   Order ID   Ship Date  Units Sold  Unit Price  \\\n",
       "0              M  10/18/2014  686800706  10/31/2014        8446      437.20   \n",
       "1              M  11-07-2011  185941302  12-08-2011        3018      154.06   \n",
       "2              C  10/31/2016  246222341  12-09-2016        1517      255.28   \n",
       "3              C  04-10-2010  161442649  05-12-2010        3322      205.70   \n",
       "4              H   8/16/2011  645713555   8/31/2011        9845        9.33   \n",
       "\n",
       "   Unit Cost  Total Revenue  Total Cost  Total Profit  Revenue in lakh  \\\n",
       "0     263.33     3692591.20  2224085.18    1468506.02        36.925912   \n",
       "1      90.93      464953.08   274426.74     190526.34         4.649531   \n",
       "2     159.42      387259.76   241840.14     145419.62         3.872598   \n",
       "3     117.11      683335.40   389039.42     294295.98         6.833354   \n",
       "4       6.92       91853.85    68127.40      23726.45         0.918539   \n",
       "\n",
       "   Cost in lakh  Profit in lakh    Percent  \n",
       "0     22.240852       14.685060  66.027418  \n",
       "1      2.744267        1.905263  69.427032  \n",
       "2      2.418401        1.454196  60.130473  \n",
       "3      3.890394        2.942960  75.646828  \n",
       "4      0.681274        0.237265  34.826590  "
      ]
     },
     "execution_count": 20,
     "metadata": {},
     "output_type": "execute_result"
    }
   ],
   "source": [
    "data.head()"
   ]
  },
  {
   "cell_type": "code",
   "execution_count": 21,
   "id": "b893f2a1",
   "metadata": {},
   "outputs": [
    {
     "data": {
      "text/plain": [
       "Region\n",
       "Asia                                  677524\n",
       "Australia and Oceania                 417298\n",
       "Central America and the Caribbean     503362\n",
       "Europe                               1285808\n",
       "Middle East and North Africa          682363\n",
       "North America                         100739\n",
       "Sub-Saharan Africa                   1386894\n",
       "Name: Units Sold, dtype: int64"
      ]
     },
     "execution_count": 21,
     "metadata": {},
     "output_type": "execute_result"
    }
   ],
   "source": [
    "data.groupby('Region')['Units Sold'].sum()"
   ]
  },
  {
   "cell_type": "markdown",
   "id": "b0499b9d",
   "metadata": {},
   "source": [
    "# Hist Plot"
   ]
  },
  {
   "cell_type": "code",
   "execution_count": 22,
   "id": "1bd9c42b",
   "metadata": {},
   "outputs": [
    {
     "data": {
      "image/png": "[encoded data removed]",
      "text/plain": [
       "<Figure size 720x432 with 1 Axes>"
      ]
     },
     "metadata": {
      "needs_background": "light"
     },
     "output_type": "display_data"
    }
   ],
   "source": [
    "plt.figure(figsize=(10,6))\n",
    "plt.hist(data['Units Sold'],bins=10, rwidth=0.80, histtype=\"bar\", color=\"lightgreen\")    # rwidth given gape of 0.20 by default is 1 rwidth\n",
    "plt.title(\"Region-wise Dataset\")\n",
    "plt.xlabel(\"Units sold\")\n",
    "plt.ylabel(\"Frequency\")\n",
    "plt.grid(True, ls=\"dotted\", color=\"green\", alpha=0.3)\n",
    "plt.show()"
   ]
  },
  {
   "cell_type": "code",
   "execution_count": 23,
   "id": "367d150f",
   "metadata": {},
   "outputs": [
    {
     "data": {
      "text/plain": [
       "(6004.0, 7002.5]                113\n",
       "(8001.0, 8999.5]                112\n",
       "(1011.5, 2010.0]                108\n",
       "(7002.5, 8001.0]                107\n",
       "(4007.0, 5005.5]                104\n",
       "(3.0140000000000002, 1011.5]     98\n",
       "(8999.5, 9998.0]                 93\n",
       "(3008.5, 4007.0]                 91\n",
       "(2010.0, 3008.5]                 89\n",
       "(5005.5, 6004.0]                 85\n",
       "Name: Units Sold, dtype: int64"
      ]
     },
     "execution_count": 23,
     "metadata": {},
     "output_type": "execute_result"
    }
   ],
   "source": [
    "data['Units Sold'].value_counts(bins=10)"
   ]
  },
  {
   "cell_type": "raw",
   "id": "39cc61c6",
   "metadata": {},
   "source": [
    "Analysis of units sold:\n",
    "\n",
    "--> In above chart highest frequency of Units sold is between 6004 to 7002\n",
    "--> Lowest frequency of units sold is between 5005 to 6004"
   ]
  },
  {
   "cell_type": "markdown",
   "id": "bed71926",
   "metadata": {},
   "source": [
    "# Bar Plot"
   ]
  },
  {
   "cell_type": "code",
   "execution_count": 24,
   "id": "7dc4536b",
   "metadata": {},
   "outputs": [
    {
     "data": {
      "text/plain": [
       "Region\n",
       "Asia                                  507.993991\n",
       "Australia and Oceania                 318.784207\n",
       "Central America and the Caribbean     413.367782\n",
       "Europe                               1067.719685\n",
       "Middle East and North Africa          510.569933\n",
       "North America                          77.080593\n",
       "Sub-Saharan Africa                   1016.509925\n",
       "Name: Profit in lakh, dtype: float64"
      ]
     },
     "execution_count": 24,
     "metadata": {},
     "output_type": "execute_result"
    }
   ],
   "source": [
    "data.groupby('Region')['Profit in lakh'].sum()"
   ]
  },
  {
   "cell_type": "code",
   "execution_count": 25,
   "id": "45bc12ef",
   "metadata": {},
   "outputs": [
    {
     "data": {
      "image/png": "[encoded data removed]",
      "text/plain": [
       "<Figure size 864x576 with 1 Axes>"
      ]
     },
     "metadata": {},
     "output_type": "display_data"
    }
   ],
   "source": [
    "f1= {'family': 'cambria', 'size': 18, 'color' : 'k'}           # this is default format in dictionary \n",
    "f2=  {'family': 'calibri', 'size': 15, 'color' : 'k'}\n",
    "\n",
    "\n",
    "plt.figure(figsize=(12,8), edgecolor='k',linewidth=2.1, facecolor='white')\n",
    "sns.barplot(y=\"Region\",x='Profit in lakh',data=data,estimator=np.sum, hue='Sales Channel', palette='rocket', ci= None, alpha=0.90) # palette change color, ci remove balck line\n",
    "plt.title(\"Region-wise Profit (in lakh)\", fontdict= f1)\n",
    "plt.xlabel(\"Profit in Lakh\", fontdict= f2)\n",
    "plt.ylabel(\"Region\", fontdict= f2)\n",
    "plt.legend(edgecolor=\"black\", shadow=True, fontsize= 12)\n",
    "plt.show()"
   ]
  },
  {
   "cell_type": "raw",
   "id": "220d4e37",
   "metadata": {},
   "source": [
    "Analysis of Region-wise profit based on Sales Channel:\n",
    "\n",
    "--> Total profit was 3912.02L, out of this 53% was offline profit 2078.87L remaining was online profit 1833.15L.\n",
    "--> Highest profit made by Europe Region of 1067.71 lakhs outof this offline profit was 500.33L and online was 567.38L.\n",
    "--> second highest profit made by Sub-Saharan Africa region of 1016.50L, offline was 562.31L and online was 454.19L.\n",
    "--> Lowest profit was made by North America of 77.08L, least profit from offline was 23.49L and online was 53.58L."
   ]
  },
  {
   "cell_type": "code",
   "execution_count": 26,
   "id": "6b94f280",
   "metadata": {},
   "outputs": [
    {
     "data": {
      "text/plain": [
       "Region                             Sales Channel\n",
       "Asia                               Offline          302.831851\n",
       "                                   Online           205.162140\n",
       "Australia and Oceania              Offline          175.886989\n",
       "                                   Online           142.897218\n",
       "Central America and the Caribbean  Offline          281.944595\n",
       "                                   Online           131.423187\n",
       "Europe                             Offline          500.335128\n",
       "                                   Online           567.384556\n",
       "Middle East and North Africa       Offline          232.067493\n",
       "                                   Online           278.502440\n",
       "North America                      Offline           23.490945\n",
       "                                   Online            53.589648\n",
       "Sub-Saharan Africa                 Offline          562.315764\n",
       "                                   Online           454.194160\n",
       "Name: Profit in lakh, dtype: float64"
      ]
     },
     "execution_count": 26,
     "metadata": {},
     "output_type": "execute_result"
    }
   ],
   "source": [
    "data.groupby(['Region','Sales Channel'])['Profit in lakh'].sum()"
   ]
  },
  {
   "cell_type": "code",
   "execution_count": 27,
   "id": "70916ee3",
   "metadata": {},
   "outputs": [
    {
     "data": {
      "text/plain": [
       "Sales Channel\n",
       "Offline    520\n",
       "Online     480\n",
       "Name: Sales Channel, dtype: int64"
      ]
     },
     "execution_count": 27,
     "metadata": {},
     "output_type": "execute_result"
    }
   ],
   "source": [
    "data.groupby('Sales Channel')['Sales Channel'].count()"
   ]
  },
  {
   "cell_type": "code",
   "execution_count": 28,
   "id": "7e9745ab",
   "metadata": {},
   "outputs": [
    {
     "data": {
      "text/plain": [
       "Region\n",
       "Asia                                  507.993991\n",
       "Australia and Oceania                 318.784207\n",
       "Central America and the Caribbean     413.367782\n",
       "Europe                               1067.719685\n",
       "Middle East and North Africa          510.569933\n",
       "North America                          77.080593\n",
       "Sub-Saharan Africa                   1016.509925\n",
       "Name: Profit in lakh, dtype: float64"
      ]
     },
     "execution_count": 28,
     "metadata": {},
     "output_type": "execute_result"
    }
   ],
   "source": [
    "data.groupby('Region')['Profit in lakh'].sum()"
   ]
  },
  {
   "cell_type": "code",
   "execution_count": 29,
   "id": "c40b0bba",
   "metadata": {},
   "outputs": [
    {
     "data": {
      "text/plain": [
       "3912.0261155999997"
      ]
     },
     "execution_count": 29,
     "metadata": {},
     "output_type": "execute_result"
    }
   ],
   "source": [
    "data['Profit in lakh'].sum()"
   ]
  },
  {
   "cell_type": "code",
   "execution_count": 30,
   "id": "c94693db",
   "metadata": {},
   "outputs": [
    {
     "data": {
      "text/plain": [
       "Sales Channel\n",
       "Offline    2078.872766\n",
       "Online     1833.153349\n",
       "Name: Profit in lakh, dtype: float64"
      ]
     },
     "execution_count": 30,
     "metadata": {},
     "output_type": "execute_result"
    }
   ],
   "source": [
    "data.groupby('Sales Channel')['Profit in lakh'].sum()"
   ]
  },
  {
   "cell_type": "code",
   "execution_count": 31,
   "id": "8a4f55aa",
   "metadata": {},
   "outputs": [
    {
     "data": {
      "text/plain": [
       "53.11860940695296"
      ]
     },
     "execution_count": 31,
     "metadata": {},
     "output_type": "execute_result"
    }
   ],
   "source": [
    "2078/3912*100"
   ]
  },
  {
   "cell_type": "markdown",
   "id": "3535f6f2",
   "metadata": {},
   "source": [
    "# Scatter Plot"
   ]
  },
  {
   "cell_type": "code",
   "execution_count": 32,
   "id": "85dcaac3",
   "metadata": {},
   "outputs": [
    {
     "data": {
      "image/png": "[encoded data removed]",
      "text/plain": [
       "<Figure size 1080x432 with 1 Axes>"
      ]
     },
     "metadata": {},
     "output_type": "display_data"
    }
   ],
   "source": [
    "plt.figure(figsize=(15,6),edgecolor=\"k\", linewidth=2.2, facecolor=\"lightgreen\")\n",
    "f1= {'family': 'cambria', 'size': 20, 'color' : 'k'}          \n",
    "f2=  {'family': 'calibri', 'size': 15, 'color' : 'r'}\n",
    "\n",
    "sns.scatterplot(((data.groupby('Region')['Units Sold'].sum())/100000),data.groupby('Region')['Revenue in lakh'].sum(), color=\"black\",marker=\"*\", s=350)\n",
    "sns.scatterplot(((data.groupby('Region')['Units Sold'].sum())/100000), data.groupby('Region')['Profit in lakh'].sum(), color=\"m\",marker=\"s\", s=120)\n",
    "plt.title(\"Correlation of Profit & Revenue Region-wise (in lakh)\",fontdict= f1)\n",
    "plt.xlabel(\"Units sold region-wise (in lakh)\",fontdict= f2)\n",
    "plt.ylabel(\"Revenue & profits (in lakh)\",fontdict= f2)\n",
    "\n",
    "plt.legend(labels= [\"Revenue\",\"Profit\"],edgecolor=\"black\", shadow=True, fontsize= 15)\n",
    "plt.show()\n"
   ]
  },
  {
   "cell_type": "raw",
   "id": "9cab1b54",
   "metadata": {},
   "source": [
    "Analysis of Correlation of Profit and Revenue with Unit sold Region-wise:\n",
    "\n",
    "--> Points in the graphs are rising, from left to right, scatter plot shows Positive correlation of profit& revenue with Units sold.\n",
    "\n",
    "--> Highest units sold (13.86L) by Sub Saharan African so revenue & profit of that region is higher as compare with other regions.\n",
    "\n",
    "--> Asia & Middle East Region achieved almost similar revenue & profit and sold the similar units.\n",
    "\n",
    "--> North America has sold only 1.00L units, lowest revenue & profit generated region-wise.\n",
    "\n"
   ]
  },
  {
   "cell_type": "code",
   "execution_count": 33,
   "id": "9adadd90",
   "metadata": {},
   "outputs": [
    {
     "data": {
      "text/html": [
       "<div>\n",
       "<style scoped>\n",
       "    .dataframe tbody tr th:only-of-type {\n",
       "        vertical-align: middle;\n",
       "    }\n",
       "\n",
       "    .dataframe tbody tr th {\n",
       "        vertical-align: top;\n",
       "    }\n",
       "\n",
       "    .dataframe thead th {\n",
       "        text-align: right;\n",
       "    }\n",
       "</style>\n",
       "<table border=\"1\" class=\"dataframe\">\n",
       "  <thead>\n",
       "    <tr style=\"text-align: right;\">\n",
       "      <th></th>\n",
       "      <th>Units Sold</th>\n",
       "      <th>Revenue in lakh</th>\n",
       "      <th>Profit in lakh</th>\n",
       "    </tr>\n",
       "    <tr>\n",
       "      <th>Region</th>\n",
       "      <th></th>\n",
       "      <th></th>\n",
       "      <th></th>\n",
       "    </tr>\n",
       "  </thead>\n",
       "  <tbody>\n",
       "    <tr>\n",
       "      <th>Asia</th>\n",
       "      <td>677524</td>\n",
       "      <td>1676.748095</td>\n",
       "      <td>507.993991</td>\n",
       "    </tr>\n",
       "    <tr>\n",
       "      <th>Australia and Oceania</th>\n",
       "      <td>417298</td>\n",
       "      <td>1056.895726</td>\n",
       "      <td>318.784207</td>\n",
       "    </tr>\n",
       "    <tr>\n",
       "      <th>Central America and the Caribbean</th>\n",
       "      <td>503362</td>\n",
       "      <td>1439.976105</td>\n",
       "      <td>413.367782</td>\n",
       "    </tr>\n",
       "    <tr>\n",
       "      <th>Europe</th>\n",
       "      <td>1285808</td>\n",
       "      <td>3531.674629</td>\n",
       "      <td>1067.719685</td>\n",
       "    </tr>\n",
       "    <tr>\n",
       "      <th>Middle East and North Africa</th>\n",
       "      <td>682363</td>\n",
       "      <td>1751.065357</td>\n",
       "      <td>510.569933</td>\n",
       "    </tr>\n",
       "    <tr>\n",
       "      <th>North America</th>\n",
       "      <td>100739</td>\n",
       "      <td>249.615989</td>\n",
       "      <td>77.080593</td>\n",
       "    </tr>\n",
       "    <tr>\n",
       "      <th>Sub-Saharan Africa</th>\n",
       "      <td>1386894</td>\n",
       "      <td>3567.242501</td>\n",
       "      <td>1016.509925</td>\n",
       "    </tr>\n",
       "  </tbody>\n",
       "</table>\n",
       "</div>"
      ],
      "text/plain": [
       "                                   Units Sold  Revenue in lakh  Profit in lakh\n",
       "Region                                                                        \n",
       "Asia                                   677524      1676.748095      507.993991\n",
       "Australia and Oceania                  417298      1056.895726      318.784207\n",
       "Central America and the Caribbean      503362      1439.976105      413.367782\n",
       "Europe                                1285808      3531.674629     1067.719685\n",
       "Middle East and North Africa           682363      1751.065357      510.569933\n",
       "North America                          100739       249.615989       77.080593\n",
       "Sub-Saharan Africa                    1386894      3567.242501     1016.509925"
      ]
     },
     "execution_count": 33,
     "metadata": {},
     "output_type": "execute_result"
    }
   ],
   "source": [
    "data.groupby('Region')['Units Sold','Revenue in lakh','Profit in lakh'].sum()"
   ]
  },
  {
   "cell_type": "code",
   "execution_count": 34,
   "id": "06384777",
   "metadata": {},
   "outputs": [
    {
     "data": {
      "text/plain": [
       "Region\n",
       "Asia                                  6.77524\n",
       "Australia and Oceania                 4.17298\n",
       "Central America and the Caribbean     5.03362\n",
       "Europe                               12.85808\n",
       "Middle East and North Africa          6.82363\n",
       "North America                         1.00739\n",
       "Sub-Saharan Africa                   13.86894\n",
       "Name: Units Sold, dtype: float64"
      ]
     },
     "execution_count": 34,
     "metadata": {},
     "output_type": "execute_result"
    }
   ],
   "source": [
    "(data.groupby('Region')['Units Sold'].sum())/100000\n"
   ]
  },
  {
   "cell_type": "code",
   "execution_count": 35,
   "id": "a4275a68",
   "metadata": {},
   "outputs": [
    {
     "data": {
      "text/plain": [
       "Region              Item Type      \n",
       "Asia                Baby Food          255.28\n",
       "                    Beverages           47.45\n",
       "                    Cereal             205.70\n",
       "                    Clothes            109.28\n",
       "                    Cosmetics          437.20\n",
       "                                        ...  \n",
       "Sub-Saharan Africa  Meat               421.89\n",
       "                    Office Supplies    651.21\n",
       "                    Personal Care       81.73\n",
       "                    Snacks             152.58\n",
       "                    Vegetables         154.06\n",
       "Name: Unit Price, Length: 82, dtype: float64"
      ]
     },
     "execution_count": 35,
     "metadata": {},
     "output_type": "execute_result"
    }
   ],
   "source": [
    "data.groupby(['Region','Item Type'])['Unit Price'].mean()"
   ]
  },
  {
   "cell_type": "markdown",
   "id": "2f86191e",
   "metadata": {},
   "source": [
    "# Line Plot"
   ]
  },
  {
   "cell_type": "code",
   "execution_count": 36,
   "id": "328c764d",
   "metadata": {},
   "outputs": [
    {
     "data": {
      "image/png": "[encoded data removed]",
      "text/plain": [
       "<Figure size 1080x720 with 1 Axes>"
      ]
     },
     "metadata": {},
     "output_type": "display_data"
    }
   ],
   "source": [
    "f1= {'family': 'cambria', 'size': 20, 'color' : 'k'}          \n",
    "f2=  {'family': 'calibri', 'size': 15, 'color' : 'g'}\n",
    "\n",
    "\n",
    "plt.figure(figsize=(15,10), edgecolor='k', linewidth=2.2, facecolor='lightgrey')\n",
    "sns.lineplot(data['Item Type'],data['Unit Price'],marker='d', ms= \"10\",label=\"Selling price\")\n",
    "sns.lineplot(data['Item Type'], data['Unit Cost'], marker='h', ms=\"12\", label='Cost price')\n",
    "plt.title(\"Sale & Cost Price as per Item\",fontdict= f1)\n",
    "plt.xlabel(\"Item type\",fontdict= f2)\n",
    "plt.ylabel(\"Selling Price & cost Price\",fontdict= f2)\n",
    "plt.legend(edgecolor=\"black\", shadow=True, fontsize= 15)\n",
    "plt.grid(axis=\"both\", c='grey', ls=\"dashed\",lw=1)\n",
    "plt.show()"
   ]
  },
  {
   "cell_type": "raw",
   "id": "fd33c6da",
   "metadata": {},
   "source": [
    "Analysis of comparing selling price with cost price against item type:\n",
    "\n",
    "--> In dataset unit price of the Clothes increased by 204.91% base of cost price. it means gained higher profit in clothes type. the cost price of clothes were very low but selling price is 204% more.\n",
    "--> Meat category has very low margin 15.68%.\n",
    "--> Cereal category unit price incresed by 75.64% base of cost price. \n",
    "--> Beverages and Snacks category increased by 49-56% i.e. median."
   ]
  },
  {
   "cell_type": "markdown",
   "id": "03d9b456",
   "metadata": {},
   "source": [
    "# Pie Chart"
   ]
  },
  {
   "cell_type": "code",
   "execution_count": 37,
   "id": "4051d3be",
   "metadata": {},
   "outputs": [
    {
     "data": {
      "image/png": "[encoded data removed]",
      "text/plain": [
       "<Figure size 1440x576 with 1 Axes>"
      ]
     },
     "metadata": {},
     "output_type": "display_data"
    }
   ],
   "source": [
    "expl= [0,0,0,0,0,0,0,0,0.2,0,0,0]\n",
    "data.groupby('Item Type')['Revenue in lakh'].sum().plot(figsize=(20,8),kind='pie',autopct='%.2f%%',explode=expl, shadow= True, startangle=90)\n",
    "plt.legend(loc=\"center right\",bbox_to_anchor=(1, 0, 0.5, 1),title=\"Item Name\")\n",
    "plt.show()"
   ]
  },
  {
   "cell_type": "raw",
   "id": "2e744cdf",
   "metadata": {},
   "source": [
    "Analysis of Item-wise Revenue in percentage:\n",
    "\n",
    "--> Total Revenue is 13273.21L, after selling 12 different item in 7 region.\n",
    "--> Office supplies item generated 21.81% revenue (2894.51L).\n",
    "--> Fruits item generated lowest revenue of 0.25% only.\n",
    "--> These 3 category Office Supplies, Household, Meat holds 53% revenue (7094.68L)."
   ]
  },
  {
   "cell_type": "code",
   "execution_count": 38,
   "id": "f36a67fb",
   "metadata": {},
   "outputs": [
    {
     "data": {
      "text/plain": [
       "13273.2184033"
      ]
     },
     "execution_count": 38,
     "metadata": {},
     "output_type": "execute_result"
    }
   ],
   "source": [
    "data['Revenue in lakh'].sum()"
   ]
  },
  {
   "cell_type": "code",
   "execution_count": 39,
   "id": "e04c0e1d",
   "metadata": {},
   "outputs": [
    {
     "data": {
      "text/plain": [
       "Item Type\n",
       "Baby Food          1114.598430\n",
       "Beverages           239.577423\n",
       "Cereal              797.599693\n",
       "Clothes             413.063101\n",
       "Cosmetics          1862.786784\n",
       "Fruits               33.133162\n",
       "Household          2479.228238\n",
       "Meat               1720.952593\n",
       "Office Supplies    2894.511232\n",
       "Personal Care       388.809225\n",
       "Snacks              602.910715\n",
       "Vegetables          726.047806\n",
       "Name: Revenue in lakh, dtype: float64"
      ]
     },
     "execution_count": 39,
     "metadata": {},
     "output_type": "execute_result"
    }
   ],
   "source": [
    "data.groupby('Item Type')['Revenue in lakh'].sum()"
   ]
  },
  {
   "cell_type": "code",
   "execution_count": null,
   "id": "581bc4c6",
   "metadata": {},
   "outputs": [],
   "source": []
  }
 ],
 "metadata": {
  "kernelspec": {
   "display_name": "Python 3 (ipykernel)",
   "language": "python",
   "name": "python3"
  },
  "language_info": {
   "codemirror_mode": {
    "name": "ipython",
    "version": 3
   },
   "file_extension": ".py",
   "mimetype": "text/x-python",
   "name": "python",
   "nbconvert_exporter": "python",
   "pygments_lexer": "ipython3",
   "version": "3.9.12"
  }
 },
 "nbformat": 4,
 "nbformat_minor": 5
}
